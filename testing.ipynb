{
 "cells": [
  {
   "cell_type": "code",
   "execution_count": 10,
   "metadata": {},
   "outputs": [
    {
     "name": "stdout",
     "output_type": "stream",
     "text": [
      "{'topic': ['Integrals'], 'status': ['unstarted'], 'pk': ['pk']}\n"
     ]
    }
   ],
   "source": [
    "import requests\n",
    "\n",
    "resp = requests.post(\"http://localhost:7071/api/getNodeDetails\", json={\"node_id\": \"integrals\"})\n",
    "print(resp.json())"
   ]
  },
  {
   "cell_type": "code",
   "execution_count": 5,
   "metadata": {},
   "outputs": [
    {
     "name": "stdout",
     "output_type": "stream",
     "text": [
      "test\n",
      "- test2\n"
     ]
    }
   ],
   "source": [
    "from enum import Enum\n",
    "test = {\"test\":1, \"test2\":2}\n",
    "print(\"\\n- \".join(test.keys()))"
   ]
  },
  {
   "cell_type": "code",
   "execution_count": 3,
   "metadata": {},
   "outputs": [
    {
     "ename": "AttributeError",
     "evalue": "'list' object has no attribute 'args_schema'",
     "output_type": "error",
     "traceback": [
      "\u001b[0;31m---------------------------------------------------------------------------\u001b[0m",
      "\u001b[0;31mAttributeError\u001b[0m                            Traceback (most recent call last)",
      "Cell \u001b[0;32mIn[3], line 81\u001b[0m\n\u001b[1;32m     78\u001b[0m \u001b[38;5;66;03m# INCLUDE PROMPTING STYLE IN TEACHING EFFECTIVENESS REPORT. LACK OF ATTENTION CAN BE BECAUSE OF SHITTY VISUALS\u001b[39;00m\n\u001b[1;32m     80\u001b[0m tool \u001b[38;5;241m=\u001b[39m [VideoGenerate()]\n\u001b[0;32m---> 81\u001b[0m tool_oai \u001b[38;5;241m=\u001b[39m [\u001b[43mformat_tool_to_openai_tool\u001b[49m\u001b[43m(\u001b[49m\u001b[43mtool\u001b[49m\u001b[43m)\u001b[49m]\n\u001b[1;32m     83\u001b[0m code_creation_prompt \u001b[38;5;241m=\u001b[39m ChatPromptTemplate\u001b[38;5;241m.\u001b[39mfrom_messages(\n\u001b[1;32m     84\u001b[0m     [\n\u001b[1;32m     85\u001b[0m         (\u001b[38;5;124m\"\u001b[39m\u001b[38;5;124msystem\u001b[39m\u001b[38;5;124m\"\u001b[39m, \u001b[38;5;124m\"\u001b[39m\u001b[38;5;124mYou are an agent whose job it is to write a python file which can be run using manim -pql scene.py ClassName to generate the animation or visual that the user requests.\u001b[39m\u001b[38;5;124m\"\u001b[39m),\n\u001b[0;32m   (...)\u001b[0m\n\u001b[1;32m     88\u001b[0m     ]\n\u001b[1;32m     89\u001b[0m )\n\u001b[1;32m     90\u001b[0m code_creation_chain \u001b[38;5;241m=\u001b[39m (\n\u001b[1;32m     91\u001b[0m     {\n\u001b[1;32m     92\u001b[0m         \u001b[38;5;124m\"\u001b[39m\u001b[38;5;124mdesired_animation\u001b[39m\u001b[38;5;124m\"\u001b[39m: itemgetter(\u001b[38;5;124m\"\u001b[39m\u001b[38;5;124mdesired_animation\u001b[39m\u001b[38;5;124m\"\u001b[39m),\n\u001b[0;32m   (...)\u001b[0m\n\u001b[1;32m     97\u001b[0m     \u001b[38;5;241m|\u001b[39m OpenAIToolsAgentOutputParser()\n\u001b[1;32m     98\u001b[0m )\n",
      "File \u001b[0;32m~/anaconda3/envs/GuideStone/lib/python3.11/site-packages/langchain_core/_api/deprecation.py:145\u001b[0m, in \u001b[0;36mdeprecated.<locals>.deprecate.<locals>.warning_emitting_wrapper\u001b[0;34m(*args, **kwargs)\u001b[0m\n\u001b[1;32m    143\u001b[0m     warned \u001b[38;5;241m=\u001b[39m \u001b[38;5;28;01mTrue\u001b[39;00m\n\u001b[1;32m    144\u001b[0m     emit_warning()\n\u001b[0;32m--> 145\u001b[0m \u001b[38;5;28;01mreturn\u001b[39;00m \u001b[43mwrapped\u001b[49m\u001b[43m(\u001b[49m\u001b[38;5;241;43m*\u001b[39;49m\u001b[43margs\u001b[49m\u001b[43m,\u001b[49m\u001b[43m \u001b[49m\u001b[38;5;241;43m*\u001b[39;49m\u001b[38;5;241;43m*\u001b[39;49m\u001b[43mkwargs\u001b[49m\u001b[43m)\u001b[49m\n",
      "File \u001b[0;32m~/anaconda3/envs/GuideStone/lib/python3.11/site-packages/langchain_core/utils/function_calling.py:261\u001b[0m, in \u001b[0;36mformat_tool_to_openai_tool\u001b[0;34m(tool)\u001b[0m\n\u001b[1;32m    254\u001b[0m \u001b[38;5;129m@deprecated\u001b[39m(\n\u001b[1;32m    255\u001b[0m     \u001b[38;5;124m\"\u001b[39m\u001b[38;5;124m0.1.16\u001b[39m\u001b[38;5;124m\"\u001b[39m,\n\u001b[1;32m    256\u001b[0m     alternative\u001b[38;5;241m=\u001b[39m\u001b[38;5;124m\"\u001b[39m\u001b[38;5;124mlangchain_core.utils.function_calling.convert_to_openai_tool()\u001b[39m\u001b[38;5;124m\"\u001b[39m,\n\u001b[1;32m    257\u001b[0m     removal\u001b[38;5;241m=\u001b[39m\u001b[38;5;124m\"\u001b[39m\u001b[38;5;124m0.2.0\u001b[39m\u001b[38;5;124m\"\u001b[39m,\n\u001b[1;32m    258\u001b[0m )\n\u001b[1;32m    259\u001b[0m \u001b[38;5;28;01mdef\u001b[39;00m \u001b[38;5;21mformat_tool_to_openai_tool\u001b[39m(tool: BaseTool) \u001b[38;5;241m-\u001b[39m\u001b[38;5;241m>\u001b[39m ToolDescription:\n\u001b[1;32m    260\u001b[0m \u001b[38;5;250m    \u001b[39m\u001b[38;5;124;03m\"\"\"Format tool into the OpenAI function API.\"\"\"\u001b[39;00m\n\u001b[0;32m--> 261\u001b[0m     function \u001b[38;5;241m=\u001b[39m \u001b[43mformat_tool_to_openai_function\u001b[49m\u001b[43m(\u001b[49m\u001b[43mtool\u001b[49m\u001b[43m)\u001b[49m\n\u001b[1;32m    262\u001b[0m     \u001b[38;5;28;01mreturn\u001b[39;00m {\u001b[38;5;124m\"\u001b[39m\u001b[38;5;124mtype\u001b[39m\u001b[38;5;124m\"\u001b[39m: \u001b[38;5;124m\"\u001b[39m\u001b[38;5;124mfunction\u001b[39m\u001b[38;5;124m\"\u001b[39m, \u001b[38;5;124m\"\u001b[39m\u001b[38;5;124mfunction\u001b[39m\u001b[38;5;124m\"\u001b[39m: function}\n",
      "File \u001b[0;32m~/anaconda3/envs/GuideStone/lib/python3.11/site-packages/langchain_core/_api/deprecation.py:145\u001b[0m, in \u001b[0;36mdeprecated.<locals>.deprecate.<locals>.warning_emitting_wrapper\u001b[0;34m(*args, **kwargs)\u001b[0m\n\u001b[1;32m    143\u001b[0m     warned \u001b[38;5;241m=\u001b[39m \u001b[38;5;28;01mTrue\u001b[39;00m\n\u001b[1;32m    144\u001b[0m     emit_warning()\n\u001b[0;32m--> 145\u001b[0m \u001b[38;5;28;01mreturn\u001b[39;00m \u001b[43mwrapped\u001b[49m\u001b[43m(\u001b[49m\u001b[38;5;241;43m*\u001b[39;49m\u001b[43margs\u001b[49m\u001b[43m,\u001b[49m\u001b[43m \u001b[49m\u001b[38;5;241;43m*\u001b[39;49m\u001b[38;5;241;43m*\u001b[39;49m\u001b[43mkwargs\u001b[49m\u001b[43m)\u001b[49m\n",
      "File \u001b[0;32m~/anaconda3/envs/GuideStone/lib/python3.11/site-packages/langchain_core/utils/function_calling.py:231\u001b[0m, in \u001b[0;36mformat_tool_to_openai_function\u001b[0;34m(tool)\u001b[0m\n\u001b[1;32m    224\u001b[0m \u001b[38;5;129m@deprecated\u001b[39m(\n\u001b[1;32m    225\u001b[0m     \u001b[38;5;124m\"\u001b[39m\u001b[38;5;124m0.1.16\u001b[39m\u001b[38;5;124m\"\u001b[39m,\n\u001b[1;32m    226\u001b[0m     alternative\u001b[38;5;241m=\u001b[39m\u001b[38;5;124m\"\u001b[39m\u001b[38;5;124mlangchain_core.utils.function_calling.convert_to_openai_function()\u001b[39m\u001b[38;5;124m\"\u001b[39m,\n\u001b[1;32m    227\u001b[0m     removal\u001b[38;5;241m=\u001b[39m\u001b[38;5;124m\"\u001b[39m\u001b[38;5;124m0.2.0\u001b[39m\u001b[38;5;124m\"\u001b[39m,\n\u001b[1;32m    228\u001b[0m )\n\u001b[1;32m    229\u001b[0m \u001b[38;5;28;01mdef\u001b[39;00m \u001b[38;5;21mformat_tool_to_openai_function\u001b[39m(tool: BaseTool) \u001b[38;5;241m-\u001b[39m\u001b[38;5;241m>\u001b[39m FunctionDescription:\n\u001b[1;32m    230\u001b[0m \u001b[38;5;250m    \u001b[39m\u001b[38;5;124;03m\"\"\"Format tool into the OpenAI function API.\"\"\"\u001b[39;00m\n\u001b[0;32m--> 231\u001b[0m     \u001b[38;5;28;01mif\u001b[39;00m \u001b[43mtool\u001b[49m\u001b[38;5;241;43m.\u001b[39;49m\u001b[43margs_schema\u001b[49m:\n\u001b[1;32m    232\u001b[0m         \u001b[38;5;28;01mreturn\u001b[39;00m convert_pydantic_to_openai_function(\n\u001b[1;32m    233\u001b[0m             tool\u001b[38;5;241m.\u001b[39margs_schema, name\u001b[38;5;241m=\u001b[39mtool\u001b[38;5;241m.\u001b[39mname, description\u001b[38;5;241m=\u001b[39mtool\u001b[38;5;241m.\u001b[39mdescription\n\u001b[1;32m    234\u001b[0m         )\n\u001b[1;32m    235\u001b[0m     \u001b[38;5;28;01melse\u001b[39;00m:\n",
      "\u001b[0;31mAttributeError\u001b[0m: 'list' object has no attribute 'args_schema'"
     ]
    }
   ],
   "source": [
    "import ast\n",
    "from typing import List, Optional, Type\n",
    "import azure.functions as func\n",
    "from psycopg2 import pool\n",
    "from pydantic import BaseModel, Field, ValidationError, root_validator, validator, ConfigDict\n",
    "from enum import Enum\n",
    "from langchain_openai import AzureChatOpenAI\n",
    "from langchain_core.runnables import RunnableLambda\n",
    "from langchain.agents.output_parsers.openai_tools import OpenAIToolsAgentOutputParser\n",
    "from langchain.tools.render import format_tool_to_openai_tool\n",
    "from langchain.agents.format_scratchpad.openai_tools import format_to_openai_tool_messages\n",
    "from langchain.output_parsers import OutputFixingParser, PydanticOutputParser\n",
    "from langchain.prompts import ChatPromptTemplate, MessagesPlaceholder\n",
    "from langchain.tools import BaseTool\n",
    "from langchain.callbacks.manager import (\n",
    "    AsyncCallbackManagerForToolRun,\n",
    "    CallbackManagerForToolRun,\n",
    ")\n",
    "from operator import itemgetter\n",
    "import re\n",
    "import json\n",
    "import os\n",
    "import subprocess\n",
    "from ansi2html import Ansi2HTMLConverter\n",
    "from langchain.agents import AgentExecutor\n",
    "\n",
    "os.environ[\"OPENAI_API_KEY\"] = \"10388fa13cbd4ca0aa189687aa4b3af1\"\n",
    "os.environ['AZURE_OPENAI_ENDPOINT'] = \"https://gpt-4-beta-canada.openai.azure.com/\"\n",
    "\n",
    "gpt_4_llm = AzureChatOpenAI(deployment_name=\"gpt-4-turbo\", api_version=\"2023-07-01-preview\", model_name=\"gpt-4-1106-preview\", temperature=0, max_retries=10)\n",
    "\n",
    "class CodeGenerateSchema(BaseModel):\n",
    "    code: str = Field(description=\"Manim code that generates the visuals for the scene. This field MUST be pure python code, that could be put in its own file and executed as-is.\")\n",
    "    class_name: str = Field(description=\"The Manim scene class to use when running the manim -pql scene.py <class_name> command to render the video\")\n",
    "\n",
    "    @validator(\"code\")\n",
    "    def is_code(cls, v):\n",
    "        try:\n",
    "            parsed_module = ast.parse(v)\n",
    "            class_names = [node.name for node in ast.walk(parsed_module) if isinstance(node, ast.ClassDef)]\n",
    "            if not any([v['class_name'] in name for name in class_names]):\n",
    "                raise ValueError(\"Target render class not found in code!\")\n",
    "        except SyntaxError:\n",
    "            raise ValueError(\"Code is not valid Python\")\n",
    "        return v\n",
    "    \n",
    "class VideoGenerate(BaseTool):\n",
    "    name = \"RenderVideo\"\n",
    "    description = \"Attempts to render the provided code into a video file and provides the stdout and stderr of the render process\"\n",
    "    args_schema: Type[BaseModel] = CodeGenerateSchema\n",
    "    conv = Ansi2HTMLConverter()\n",
    "\n",
    "    # model_config = ConfigDict(from_attributes=True)\n",
    "\n",
    "    def _run(self, code: str, class_name: str, run_manager: Optional[CallbackManagerForToolRun] = None) -> str:\n",
    "        \"\"\"generate a video synchronously.\"\"\"\n",
    "        # write the code to a file\n",
    "        with open(\"scene.py\", \"w\") as scene:\n",
    "            scene.write(code)\n",
    "\n",
    "        stdout, stderr = subprocess.Popen(f\"manim -pql scene.py {class_name}\", stderr=subprocess.PIPE, stdout=subprocess.PIPE, shell=True).communicate()\n",
    "        stdout_decoded = stdout.decode('utf-8')\n",
    "        stderr_decoded = stderr.decode('utf-8')\n",
    "\n",
    "        # get rid of old generation stuff\n",
    "        os.remove(\"scene.py\")\n",
    "        os.rmdir(\"media\")\n",
    "\n",
    "        return json.dumps({\n",
    "            \"stdout\": self.conv.convert(stdout_decoded),\n",
    "            \"stderr\": self.conv.convert(stderr_decoded)\n",
    "        })\n",
    "        \n",
    "    def _arun(self, run_manager: Optional[AsyncCallbackManagerForToolRun] = None) -> str:\n",
    "        \"\"\"Generate a video segment asynchronously.\"\"\"\n",
    "        raise NotImplementedError(\"TextGenerate does not support async\")\n",
    "    \n",
    "# INCLUDE PROMPTING STYLE IN TEACHING EFFECTIVENESS REPORT. LACK OF ATTENTION CAN BE BECAUSE OF SHITTY VISUALS\n",
    "    \n",
    "tool = [VideoGenerate()]\n",
    "tool_oai = [format_tool_to_openai_tool(tool)]\n",
    "\n",
    "code_creation_prompt = ChatPromptTemplate.from_messages(\n",
    "    [\n",
    "        (\"system\", \"You are an agent whose job it is to write a python file which can be run using manim -pql scene.py ClassName to generate the animation or visual that the user requests.\"),\n",
    "        (\"user\", \"{desired_animation}\"),\n",
    "        MessagesPlaceholder(variable_name=\"agent_scratchpad\"),\n",
    "    ]\n",
    ")\n",
    "code_creation_chain = (\n",
    "    {\n",
    "        \"desired_animation\": itemgetter(\"desired_animation\"),\n",
    "        \"agent_scratchpad\": itemgetter(\"intermediate_steps\") | RunnableLambda(format_to_openai_tool_messages),\n",
    "    }\n",
    "    | code_creation_prompt\n",
    "    | gpt_4_llm.bind(tools=tool_oai)\n",
    "    | OpenAIToolsAgentOutputParser()\n",
    ")\n",
    "\n",
    "agent = AgentExecutor(agent=code_creation_chain, tools=tool, debug=True)\n",
    "\n",
    "# 1. get basic video working (animations, equations, text)\n",
    "# 2. incorporate visuals\n",
    "# 3. incorporate plugins\n",
    "\n",
    "code_output = agent.invoke({\n",
    "    \"desired_animation\": \"Create a visual of a spring oscillating, moving according to Hooke's Law. The spring should be attached to a wall on one end and a mass on the other. The mass should be displaced from its equilibrium position and then released. The mass should oscillate back and forth around the equilibrium position. The spring should be shown to stretch and compress as the mass moves. The mass should be shown to move with simple harmonic motion. The spring should be shown to obey Hooke's Law. The mass should be shown to obey Newton's Second Law. The mass should be shown to have kinetic energy and potential energy. The spring should be shown to have elastic potential energy. The mass should be shown to have maximum kinetic energy at the equilibrium position and maximum potential energy at the maximum displacement from the equilibrium position. The spring should be shown to have maximum elastic potential energy at the maximum displacement from the equilibrium position and maximum kinetic energy at the equilibrium position.\",\n",
    "})"
   ]
  }
 ],
 "metadata": {
  "kernelspec": {
   "display_name": "GuideStone",
   "language": "python",
   "name": "python3"
  },
  "language_info": {
   "codemirror_mode": {
    "name": "ipython",
    "version": 3
   },
   "file_extension": ".py",
   "mimetype": "text/x-python",
   "name": "python",
   "nbconvert_exporter": "python",
   "pygments_lexer": "ipython3",
   "version": "3.11.3"
  }
 },
 "nbformat": 4,
 "nbformat_minor": 2
}
